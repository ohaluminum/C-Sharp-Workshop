{
  "cells": [
    {
      "cell_type": "markdown",
      "metadata": {},
      "source": [
        "# Book: C# 9.0 in a Nutshell \n",
        "\n",
        "## Chapter 4 : Advanced C#"
      ]
    },
    {
      "cell_type": "markdown",
      "metadata": {},
      "source": [
        "- Delegates\n",
        "- Events\n",
        "- ***Lambda Expressions***\n",
        "- ***Anonymous Methods***\n",
        "- try Statements and Exceptions\n",
        "- Enumerations and Iterators\n",
        "- Nullable Value Types\n",
        "- Nullable Reference Types\n",
        "- Extension Methods\n",
        "- Anonymous Types\n",
        "- Tuples\n",
        "- Records\n",
        "- Patterns\n",
        "- Attributes\n",
        "- Caller Info Attributes\n",
        "- Dynamic Binding\n",
        "- Operator Overloading\n",
        "- Unsafe code and Pointers\n",
        "- Preprocessor Directives\n",
        "- XML Documentation"
      ]
    },
    {
      "cell_type": "markdown",
      "metadata": {},
      "source": [
        "### Lambda Expressions\n",
        "\n",
        "- [Lambda expressions (C# reference) - Microsoft Documentation](https://docs.microsoft.com/en-us/dotnet/csharp/language-reference/operators/lambda-expressions)\n",
        "- Lambda expression can be used to create an anonymous function.\n",
        "- ***Syntax: method parameter(s) => method body or method return value.***\n",
        "- Two forms of Lambda Expressions: ***Expression Lambda & Statement Lambda***.\n",
        "- Lambda expression can be further shortened:\n",
        "    - When the type of parameter can be inferred (for example, from Func<int, bool>), the type declaration of parameter (int) can be omitted.\n",
        "    - When lambda expression has one parameter, the parentheses ( ) can be omitted.\n",
        "    - When the body of the lambda expression has only one return statement, the brackets { } and “return” keyword can be omitted.\n",
        ""
      ]
    },
    {
      "cell_type": "code",
      "execution_count": 1,
      "metadata": {
        "dotnet_interactive": {
          "language": "csharp"
        }
      },
      "source": [
        "// Local static method\n",
        "static int Square(int x) => x * x;\n",
        "\n",
        "// Named method - Square\n",
        "Func<int, int> sqr = Square;\n",
        "\n",
        "// Anonymous Methods\n",
        "sqr += delegate (int x) { return x * x; };   // With delegate keyword\n",
        "sqr += (int x) => { return x * x; };   // Lambda expressions (statement block)\n",
        "sqr += x => { return x * x; };   // Omitted parenthese and type   \n",
        "sqr += x => x * x;  // Lambda expressions (expression) - the simplest\n",
        "\n",
        "// Run many methods at the same time\n",
        "Delegate[] delegateList1 = sqr.GetInvocationList();\n",
        "\n",
        "foreach (Func<int, int> instance in delegateList1)\n",
        "{\n",
        "    Console.WriteLine(\"Square of 4: {0}\", instance(4));\n",
        "}"
      ],
      "outputs": [
        {
          "output_type": "execute_result",
          "data": {
            "text/plain": "Square of 4: 16\n"
          },
          "execution_count": 1,
          "metadata": {}
        },
        {
          "output_type": "execute_result",
          "data": {
            "text/plain": "Square of 4: 16\n"
          },
          "execution_count": 1,
          "metadata": {}
        },
        {
          "output_type": "execute_result",
          "data": {
            "text/plain": "Square of 4: 16\n"
          },
          "execution_count": 1,
          "metadata": {}
        },
        {
          "output_type": "execute_result",
          "data": {
            "text/plain": "Square of 4: 16\n"
          },
          "execution_count": 1,
          "metadata": {}
        },
        {
          "output_type": "execute_result",
          "data": {
            "text/plain": "Square of 4: 16\n"
          },
          "execution_count": 1,
          "metadata": {}
        }
      ]
    },
    {
      "cell_type": "code",
      "execution_count": 1,
      "metadata": {
        "dotnet_interactive": {
          "language": "csharp"
        }
      },
      "source": [
        "// Two or more input parameters are separated by commas:\n",
        "Func<int, int, bool> testForEquality = (x, y) => x == y;\n",
        "Console.WriteLine(testForEquality(2,2));\n",
        "Console.WriteLine(testForEquality(2,3));\n",
        "\n",
        "// Without input parameters\n",
        "Action line = () => Console.WriteLine(\"Test\");      // Action: if do not return a value\n",
        "line();\n",
        ""
      ],
      "outputs": [
        {
          "output_type": "execute_result",
          "data": {
            "text/plain": "True\n"
          },
          "execution_count": 1,
          "metadata": {}
        },
        {
          "output_type": "execute_result",
          "data": {
            "text/plain": "False\n"
          },
          "execution_count": 1,
          "metadata": {}
        },
        {
          "output_type": "execute_result",
          "data": {
            "text/plain": "Test\n"
          },
          "execution_count": 1,
          "metadata": {}
        }
      ]
    },
    {
      "cell_type": "code",
      "execution_count": 1,
      "metadata": {
        "dotnet_interactive": {
          "language": "csharp"
        }
      },
      "source": [
        "// https://stackoverflow.com/questions/2253874/standard-deviation-in-linq\n",
        "\n",
        "public static double StdDev(IEnumerable<double> values)\n",
        "{\n",
        "    // Reference: http://warrenseen.com/blog/2006/03/13/how-to-calculate-standard-deviation/\n",
        "    double mean = 0.0;\n",
        "    double sum = 0.0;\n",
        "    double stdDev = 0.0;\n",
        "    int n = 0;\n",
        "    foreach (double val in values)\n",
        "    {\n",
        "        n++;\n",
        "        double delta = val - mean;\n",
        "        mean += delta / n;\n",
        "        sum += delta * (val - mean);\n",
        "    }\n",
        "    if (n > 1)\n",
        "    {\n",
        "        stdDev = Math.Sqrt(sum / (n - 1));\n",
        "    }\n",
        "\n",
        "    return stdDev;\n",
        "}"
      ],
      "outputs": []
    },
    {
      "cell_type": "code",
      "execution_count": 1,
      "metadata": {
        "dotnet_interactive": {
          "language": "csharp"
        }
      },
      "source": [
        "// Named method - StdDev\n",
        "Func<IEnumerable<double>, double> sd = StdDev;\n",
        "\n",
        "// Re-write it to anonymous methods\n",
        "sd += values => \n",
        "{ \n",
        "    double mean = 0.0;\n",
        "    double sum = 0.0;\n",
        "    double stdDev = 0.0;\n",
        "    int n = 0;\n",
        "    foreach (double val in values)\n",
        "    {\n",
        "        n++;\n",
        "        double delta = val - mean;\n",
        "        mean += delta / n;\n",
        "        sum += delta * (val - mean);\n",
        "    }\n",
        "    if (n > 1)\n",
        "        stdDev = Math.Sqrt(sum / (n - 1));\n",
        "\n",
        "    return stdDev;\n",
        "};\n",
        "\n",
        "// Run many methods at the same time\n",
        "Delegate[] delegateList2 = sd.GetInvocationList();\n",
        "\n",
        "foreach (Func<IEnumerable<double>, double> instance in delegateList2)\n",
        "{\n",
        "    Console.WriteLine($\"Standard Deviation：{instance(new double[]{1,2,3,4,5})}\");\n",
        "}"
      ],
      "outputs": [
        {
          "output_type": "execute_result",
          "data": {
            "text/plain": "Standard Deviation：1.5811388300841898\n"
          },
          "execution_count": 1,
          "metadata": {}
        },
        {
          "output_type": "execute_result",
          "data": {
            "text/plain": "Standard Deviation：1.5811388300841898\n"
          },
          "execution_count": 1,
          "metadata": {}
        }
      ]
    },
    {
      "cell_type": "markdown",
      "metadata": {},
      "source": [
        "### Capturing Outer Variables\n",
        "\n",
        "- A outer variable (free variable) is the variable referenced in a function which is not a ***parameter*** or a ***local variable*** of the function.\n",
        "- An outer variable referenced by a lambda expression are called ***captured variable***. \n",
        "- A lambda expression that captures variables is called a ***closure***."
      ]
    },
    {
      "cell_type": "code",
      "execution_count": 1,
      "metadata": {
        "dotnet_interactive": {
          "language": "csharp"
        }
      },
      "source": [
        "// A simple example\n",
        "int scalar1 = 2;\n",
        "Func<int, int> multiplier = n => n * scalar1;\n",
        "Console.WriteLine (multiplier(3));     // 6"
      ],
      "outputs": [
        {
          "output_type": "execute_result",
          "data": {
            "text/plain": "6\n"
          },
          "execution_count": 1,
          "metadata": {}
        }
      ]
    },
    {
      "cell_type": "markdown",
      "metadata": {},
      "source": [
        "- Captured variables are evaluated when the delegate is actually ***invoked***, not when the variables were ***captured***."
      ]
    },
    {
      "cell_type": "code",
      "execution_count": 1,
      "metadata": {
        "dotnet_interactive": {
          "language": "csharp"
        }
      },
      "source": [
        "int scalar2 = 2;\n",
        "Func<int, int> multiplier = n => n * scalar2;\n",
        "scalar2 = 10;   \n",
        "Console.WriteLine (multiplier(3));      // Invoke"
      ],
      "outputs": [
        {
          "output_type": "execute_result",
          "data": {
            "text/plain": "30\n"
          },
          "execution_count": 1,
          "metadata": {}
        }
      ]
    },
    {
      "cell_type": "markdown",
      "metadata": {},
      "source": [
        "### Static Lambda\n",
        "\n",
        "- New feature in C# 9.0\n",
        "- When capture local variables, parameters, instance fields, or the *this* reference, the compiler may need to create and instantiate a private class to store a reference to the captured data. \n",
        "- This incurs a small performance cost, because memory must be allocated.\n",
        "- Can apply the static modifier to a lambda expression to ***prevent unintentional capture of outer variables***."
      ]
    },
    {
      "cell_type": "code",
      "execution_count": 1,
      "metadata": {
        "dotnet_interactive": {
          "language": "csharp"
        }
      },
      "source": [
        "// With same example\n",
        "int scalar3 = 2;\n",
        "Func<int, int> multiplier = static n => n * scalar3;    // Error\n",
        "Console.WriteLine (multiplier(3)); "
      ],
      "outputs": [
        {
          "output_type": "error",
          "ename": "Error",
          "evalue": "[object Object]",
          "traceback": []
        }
      ]
    },
    {
      "cell_type": "markdown",
      "metadata": {},
      "source": [
        "### Lambda Expression vs. Ordinary Function\n",
        "\n",
        "- Ordinary Function: \n",
        "    - help reduce repetitions in the code\n",
        "    - make the code more structured\n",
        "\n",
        "- Lambda Expression:\n",
        "    - simpler syntax for anonymous delegates\n",
        "    - it is more readable because it places the implementation of the function right into the spot where it is called\n",
        "    - keep the natural top-to-bottom flow of code unchanged\n",
        "    - especially when we are going to use a method only a single time. In such a way it saves our effort of declaring and writing a separate method to the containing class. \n",
        "\n",
        "***For the small one-time-use (\"disposable\") utility code, it is better to use lambda expression rather than create a seperate function.***\n",
        "\n",
        "Reference: https://stackoverflow.com/questions/18168022/what-is-the-advantage-of-lambda-expressions\n",
        ""
      ]
    }
  ],
  "metadata": {
    "kernelspec": {
      "display_name": ".NET (C#)",
      "language": "C#",
      "name": ".net-csharp"
    },
    "language_info": {
      "file_extension": ".cs",
      "mimetype": "text/x-csharp",
      "name": "C#",
      "pygments_lexer": "csharp",
      "version": "8.0"
    }
  },
  "nbformat": 4,
  "nbformat_minor": 4
}